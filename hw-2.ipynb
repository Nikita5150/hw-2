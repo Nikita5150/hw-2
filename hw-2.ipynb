{
 "cells": [
  {
   "cell_type": "code",
   "execution_count": null,
   "metadata": {
    "scrolled": true
   },
   "outputs": [],
   "source": [
    "%matplotlib inline      \n",
    "import numpy as np\n",
    "import matplotlib.pyplot as plt     #imports numpy and matplotlib"
   ]
  },
  {
   "cell_type": "code",
   "execution_count": null,
   "metadata": {},
   "outputs": [],
   "source": [
    "x = np.linspace(0,2*np.pi,1000)   # a 1000 values of x=0.2*pi\n",
    "print(x[-1],2*np.pi)\n",
    "\n",
    "z = np.cos(2*x)*5.5+5.5           #defines functions to plot\n",
    "w = np.exp(x)*0.02 \n",
    "v = np.sin(10*x)*0.1+ 0.25*(x ** 2)"
   ]
  },
  {
   "cell_type": "code",
   "execution_count": null,
   "metadata": {},
   "outputs": [],
   "source": [
    "#adjust the size of the figure\n",
    "fig = plt.figure(figsize=(6,6))   # 6 by 6 inch figure\n",
    "\n",
    "plt.plot(x, z, label=r'$y = \\cos(2*x)*5.5+5.5$')    #add a label to the 1st line\n",
    "plt.plot(x, w, label=r'$y = \\exp(x)*0.02$')    #add a label to the 2nd line\n",
    "plt.plot(x, v, label=r'$y = \\sin(10*x)*0.1 + 0.25*(x^2)$')   #add a label to the 3rd line\n",
    "\n",
    "plt.xlabel(r'$x$')         \n",
    "plt.ylabel(r'$y(x)$')\n",
    "plt.xlim([0,2*np.pi])\n",
    "plt.ylim([-1,10])      #limits y range from -1 to 10\n",
    "plt.legend(loc=1,framealpha=0.95)   #add a legend with a semi-transparent frame in the upper RH corner\n",
    "\n",
    "#fix the axis ratio\n",
    "plt.gca().set_aspect(np.pi/1.2)   #use \"gca\" to get current axiss"
   ]
  },
  {
   "cell_type": "code",
   "execution_count": null,
   "metadata": {},
   "outputs": [],
   "source": []
  },
  {
   "cell_type": "code",
   "execution_count": null,
   "metadata": {},
   "outputs": [],
   "source": [
    "\n",
    "\n"
   ]
  },
  {
   "cell_type": "code",
   "execution_count": null,
   "metadata": {},
   "outputs": [],
   "source": []
  },
  {
   "cell_type": "code",
   "execution_count": null,
   "metadata": {},
   "outputs": [],
   "source": []
  },
  {
   "cell_type": "code",
   "execution_count": null,
   "metadata": {},
   "outputs": [],
   "source": []
  }
 ],
 "metadata": {
  "kernelspec": {
   "display_name": "Python 3",
   "language": "python",
   "name": "python3"
  },
  "language_info": {
   "codemirror_mode": {
    "name": "ipython",
    "version": 3
   },
   "file_extension": ".py",
   "mimetype": "text/x-python",
   "name": "python",
   "nbconvert_exporter": "python",
   "pygments_lexer": "ipython3",
   "version": "3.6.5"
  }
 },
 "nbformat": 4,
 "nbformat_minor": 2
}
